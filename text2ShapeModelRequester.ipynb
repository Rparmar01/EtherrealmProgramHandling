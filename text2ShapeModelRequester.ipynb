{
 "cells": [
  {
   "cell_type": "code",
   "execution_count": null,
   "metadata": {},
   "outputs": [],
   "source": [
    "import requests\n",
    "import json\n",
    "\n",
    "# Set up Text2Shape API credentials\n",
    "api_key = \"YOUR_API_KEY\""
   ]
  },
  {
   "cell_type": "code",
   "execution_count": null,
   "metadata": {},
   "outputs": [],
   "source": [
    "# Define the prompt for the Text2Shape model\n",
    "prompt = \"a red apple on a white plate\""
   ]
  },
  {
   "cell_type": "code",
   "execution_count": null,
   "metadata": {},
   "outputs": [],
   "source": [
    "\n",
    "# Define the parameters for the Text2Shape model\n",
    "num_samples = 1\n",
    "mesh_format = \"PLY\"\n",
    "mesh_resolution = \"1024\"\n",
    "camera_distance = \"2.5\""
   ]
  },
  {
   "cell_type": "code",
   "execution_count": null,
   "metadata": {},
   "outputs": [],
   "source": [
    "\n",
    "\n",
    "# Define the request headers and body\n",
    "headers = {\n",
    "    \"Content-Type\": \"application/json\",\n",
    "    \"Authorization\": f\"Bearer {api_key}\"\n",
    "}\n",
    "body = {\n",
    "    \"prompt\": prompt,\n",
    "    \"num_samples\": num_samples,\n",
    "    \"mesh_format\": mesh_format,\n",
    "    \"mesh_resolution\": mesh_resolution,\n",
    "    \"camera_distance\": camera_distance\n",
    "}"
   ]
  },
  {
   "cell_type": "code",
   "execution_count": null,
   "metadata": {},
   "outputs": [],
   "source": [
    "\n",
    "# Send the request to the API\n",
    "response = requests.post(\"https://api.text2shape.net/v1/generate_mesh\", headers=headers, data=json.dumps(body))\n",
    "\n",
    "# Check if the request was successful\n",
    "if response.status_code == 200:\n",
    "    # Get the mesh data from the response\n",
    "    mesh_data = response.content\n",
    "    \n",
    "    # Write the mesh data to a file\n",
    "    with open(\"output.ply\", \"wb\") as f:\n",
    "        f.write(mesh_data)\n",
    "else:\n",
    "    print(f\"Error: {response.status_code} - {response.text}\")"
   ]
  }
 ],
 "metadata": {
  "language_info": {
   "name": "python"
  }
 },
 "nbformat": 4,
 "nbformat_minor": 2
}
