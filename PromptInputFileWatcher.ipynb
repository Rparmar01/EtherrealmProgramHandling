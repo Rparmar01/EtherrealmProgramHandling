{
 "cells": [
  {
   "cell_type": "code",
   "execution_count": 1,
   "metadata": {},
   "outputs": [],
   "source": [
    "import os\n",
    "import time\n",
    "import traceback"
   ]
  },
  {
   "cell_type": "code",
   "execution_count": 5,
   "metadata": {},
   "outputs": [],
   "source": [
    "class FileModified():\n",
    "    def __init__(self, file_path, callback):\n",
    "        self.file_path = file_path\n",
    "        self.callback = callback\n",
    "        self.modifiedOn = os.path.getmtime(file_path)\n",
    "    \n",
    "    def start(self):\n",
    "        try:\n",
    "            while (True):\n",
    "                time.sleep(0.5)\n",
    "                modified = os.path.getmtime(self.file_path)\n",
    "                if modified != self.modifiedOn:\n",
    "                    self.modifiedOn = modified\n",
    "                    if self.callback():\n",
    "                        break\n",
    "        except Exception as e:\n",
    "            print(f'Error reading the file: {e}')\n",
    "        except KeyboardInterrupt:\n",
    "            print(\"Stopping observer...\")\n"
   ]
  },
  {
   "cell_type": "code",
   "execution_count": 6,
   "metadata": {},
   "outputs": [],
   "source": [
    "def file_modified():\n",
    "    with open('sample_text_input.txt', 'r'  ) as f:\n",
    "        lines = f.read()\n",
    "        print(\"File Modified!\", lines)\n",
    "    return False"
   ]
  },
  {
   "cell_type": "code",
   "execution_count": 7,
   "metadata": {},
   "outputs": [
    {
     "name": "stdout",
     "output_type": "stream",
     "text": [
      "Stopping observer...\n"
     ]
    }
   ],
   "source": [
    "fileModifiedHandler = FileModified(r\"sample_text_input.txt\",file_modified)\n",
    "fileModifiedHandler.start()"
   ]
  }
 ],
 "metadata": {
  "kernelspec": {
   "display_name": "Python 3",
   "language": "python",
   "name": "python3"
  },
  "language_info": {
   "codemirror_mode": {
    "name": "ipython",
    "version": 3
   },
   "file_extension": ".py",
   "mimetype": "text/x-python",
   "name": "python",
   "nbconvert_exporter": "python",
   "pygments_lexer": "ipython3",
   "version": "3.11.1"
  }
 },
 "nbformat": 4,
 "nbformat_minor": 2
}
