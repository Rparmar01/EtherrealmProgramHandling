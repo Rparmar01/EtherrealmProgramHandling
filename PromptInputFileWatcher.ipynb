{
 "cells": [
  {
   "cell_type": "code",
   "execution_count": 1,
   "metadata": {},
   "outputs": [],
   "source": [
    "import os\n",
    "import time\n",
    "import traceback"
   ]
  },
  {
   "cell_type": "code",
   "execution_count": 2,
   "metadata": {},
   "outputs": [],
   "source": [
    "class FileModified():\n",
    "    def __init__(self, file_path, callback):\n",
    "        self.file_path = file_path\n",
    "        self.callback = callback\n",
    "        self.modifiedOn = os.path.getmtime(file_path)\n",
    "    \n",
    "    def start(self):\n",
    "        try:\n",
    "            while (True):\n",
    "                time.sleep(0.5)\n",
    "                modified = os.path.getmtime(self.file_path)\n",
    "                if modified != self.modifiedOn:\n",
    "                    self.modifiedOn = modified\n",
    "                    if self.callback():\n",
    "                        break\n",
    "        except Exception as e:\n",
    "            print(f'Error reading the file: {e}')\n",
    "        except KeyboardInterrupt:\n",
    "            print(\"Stopping observer...\")\n"
   ]
  },
  {
   "cell_type": "code",
   "execution_count": 3,
   "metadata": {},
   "outputs": [],
   "source": [
    "def file_modified():\n",
    "    with open('sample_text_input.txt', 'r'  ) as f:\n",
    "        lines = f.read()\n",
    "        print(\"File Modified!\", lines)\n",
    "    return False"
   ]
  },
  {
   "cell_type": "code",
   "execution_count": 4,
   "metadata": {},
   "outputs": [
    {
     "name": "stdout",
     "output_type": "stream",
     "text": [
      "File Modified! broookie\n"
     ]
    },
    {
     "ename": "KeyboardInterrupt",
     "evalue": "",
     "output_type": "error",
     "traceback": [
      "\u001b[0;31m---------------------------------------------------------------------------\u001b[0m",
      "\u001b[0;31mKeyboardInterrupt\u001b[0m                         Traceback (most recent call last)",
      "\u001b[1;32m/Users/ricky/Documents/GitHub/Shap-eTextToMeshGit/EtherrealmProgramHandling/PromptInputFileWatcher.ipynb Cell 4\u001b[0m line \u001b[0;36m2\n\u001b[1;32m      <a href='vscode-notebook-cell:/Users/ricky/Documents/GitHub/Shap-eTextToMeshGit/EtherrealmProgramHandling/PromptInputFileWatcher.ipynb#W3sZmlsZQ%3D%3D?line=0'>1</a>\u001b[0m fileModifiedHandler \u001b[39m=\u001b[39m FileModified(\u001b[39mr\u001b[39m\u001b[39m\"\u001b[39m\u001b[39msample_text_input.txt\u001b[39m\u001b[39m\"\u001b[39m,file_modified)\n\u001b[0;32m----> <a href='vscode-notebook-cell:/Users/ricky/Documents/GitHub/Shap-eTextToMeshGit/EtherrealmProgramHandling/PromptInputFileWatcher.ipynb#W3sZmlsZQ%3D%3D?line=1'>2</a>\u001b[0m fileModifiedHandler\u001b[39m.\u001b[39;49mstart()\n",
      "\u001b[1;32m/Users/ricky/Documents/GitHub/Shap-eTextToMeshGit/EtherrealmProgramHandling/PromptInputFileWatcher.ipynb Cell 4\u001b[0m line \u001b[0;36m1\n\u001b[1;32m      <a href='vscode-notebook-cell:/Users/ricky/Documents/GitHub/Shap-eTextToMeshGit/EtherrealmProgramHandling/PromptInputFileWatcher.ipynb#W3sZmlsZQ%3D%3D?line=7'>8</a>\u001b[0m \u001b[39mtry\u001b[39;00m:\n\u001b[1;32m      <a href='vscode-notebook-cell:/Users/ricky/Documents/GitHub/Shap-eTextToMeshGit/EtherrealmProgramHandling/PromptInputFileWatcher.ipynb#W3sZmlsZQ%3D%3D?line=8'>9</a>\u001b[0m     \u001b[39mwhile\u001b[39;00m (\u001b[39mTrue\u001b[39;00m):\n\u001b[0;32m---> <a href='vscode-notebook-cell:/Users/ricky/Documents/GitHub/Shap-eTextToMeshGit/EtherrealmProgramHandling/PromptInputFileWatcher.ipynb#W3sZmlsZQ%3D%3D?line=9'>10</a>\u001b[0m         time\u001b[39m.\u001b[39msleep(\u001b[39m0.5\u001b[39m)\n\u001b[1;32m     <a href='vscode-notebook-cell:/Users/ricky/Documents/GitHub/Shap-eTextToMeshGit/EtherrealmProgramHandling/PromptInputFileWatcher.ipynb#W3sZmlsZQ%3D%3D?line=10'>11</a>\u001b[0m         modified \u001b[39m=\u001b[39m os\u001b[39m.\u001b[39mpath\u001b[39m.\u001b[39mgetmtime(\u001b[39mself\u001b[39m\u001b[39m.\u001b[39mfile_path)\n\u001b[1;32m     <a href='vscode-notebook-cell:/Users/ricky/Documents/GitHub/Shap-eTextToMeshGit/EtherrealmProgramHandling/PromptInputFileWatcher.ipynb#W3sZmlsZQ%3D%3D?line=11'>12</a>\u001b[0m         \u001b[39mif\u001b[39;00m modified \u001b[39m!=\u001b[39m \u001b[39mself\u001b[39m\u001b[39m.\u001b[39mmodifiedOn:\n",
      "\u001b[0;31mKeyboardInterrupt\u001b[0m: "
     ]
    }
   ],
   "source": [
    "fileModifiedHandler = FileModified(r\"sample_text_input.txt\",file_modified)\n",
    "fileModifiedHandler.start()"
   ]
  }
 ],
 "metadata": {
  "kernelspec": {
   "display_name": "Python 3",
   "language": "python",
   "name": "python3"
  },
  "language_info": {
   "codemirror_mode": {
    "name": "ipython",
    "version": 3
   },
   "file_extension": ".py",
   "mimetype": "text/x-python",
   "name": "python",
   "nbconvert_exporter": "python",
   "pygments_lexer": "ipython3",
   "version": "3.11.1"
  }
 },
 "nbformat": 4,
 "nbformat_minor": 2
}
