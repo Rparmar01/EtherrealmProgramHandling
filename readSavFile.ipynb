{
 "cells": [
  {
   "cell_type": "code",
   "execution_count": 10,
   "metadata": {},
   "outputs": [],
   "source": [
    "import struct"
   ]
  },
  {
   "cell_type": "code",
   "execution_count": 28,
   "metadata": {},
   "outputs": [],
   "source": [
    "import struct\n",
    "\n",
    "def read_unreal_save_file(file_path):\n",
    "    try:\n",
    "        with open(file_path, 'rb') as file:\n",
    "            # Initialize an empty list to store the data\n",
    "            data_list = []\n",
    "\n",
    "            # Read records until the end of the file\n",
    "            while True:\n",
    "                # Assuming each record consists of a string and an integer\n",
    "                record_format = '<I'  # Assuming an unsigned integer (4 bytes) for the string length\n",
    "\n",
    "                # Read the length of the string\n",
    "                string_length_bytes = file.read(4)\n",
    "                if not string_length_bytes:\n",
    "                    break  # End of file\n",
    "\n",
    "                string_length = struct.unpack('<I', string_length_bytes)[0]\n",
    "\n",
    "                # Read the string using 'replace' error handling\n",
    "                try:\n",
    "                    string_data = file.read(string_length).decode('utf-8', errors='replace')\n",
    "                except UnicodeDecodeError as ude:\n",
    "                    print(f\"Error decoding string: {ude}\")\n",
    "                    string_data = None\n",
    "\n",
    "                # Check if there is enough data left for the integer\n",
    "                if len(file.read(4)) < 4:\n",
    "                    break  # End of file\n",
    "\n",
    "                # Go back to the beginning of the integer data\n",
    "                file.seek(-4, 1)\n",
    "\n",
    "                # Read the integer\n",
    "                integer_data = struct.unpack('<I', file.read(4))[0]\n",
    "\n",
    "                # Append the data to the list\n",
    "                data_list.append((string_data, integer_data))\n",
    "\n",
    "            return data_list\n",
    "\n",
    "    except Exception as e:\n",
    "        print(f\"Error reading the file: {e}\")\n",
    "        return None\n"
   ]
  },
  {
   "cell_type": "code",
   "execution_count": 33,
   "metadata": {},
   "outputs": [
    {
     "name": "stdout",
     "output_type": "stream",
     "text": [
      "Data found, printing records:\n"
     ]
    }
   ],
   "source": [
    "# Example usage\n",
    "file_path = f\"C:\\\\Users\\\\rparm\\\\Documents\\\\GitHub\\\\Shap-eTextToMeshGit\\\\EtherrealmProgramHandling\\\\promptinput.sav\"\n",
    "result = read_unreal_save_file(file_path)\n",
    "\n",
    "if result is not None:\n",
    "    print(\"Data found, printing records:\")\n",
    "    for i, record in enumerate(result, start=1):\n",
    "        print(f\"Record {i}:\")\n",
    "        print(f\"  String (hex): {record[0].encode('utf-8').hex()}\")\n",
    "        print(f\"  Integer (hex): 0x{record[1]:X}\")\n",
    "        print()\n",
    "else:\n",
    "    print(\"No data found.\")"
   ]
  }
 ],
 "metadata": {
  "kernelspec": {
   "display_name": "Python 3",
   "language": "python",
   "name": "python3"
  },
  "language_info": {
   "codemirror_mode": {
    "name": "ipython",
    "version": 3
   },
   "file_extension": ".py",
   "mimetype": "text/x-python",
   "name": "python",
   "nbconvert_exporter": "python",
   "pygments_lexer": "ipython3",
   "version": "3.10.6"
  }
 },
 "nbformat": 4,
 "nbformat_minor": 2
}
